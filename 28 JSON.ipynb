{
 "cells": [
  {
   "cell_type": "markdown",
   "metadata": {},
   "source": [
    "# java script object notation\n"
   ]
  },
  {
   "cell_type": "code",
   "execution_count": 1,
   "metadata": {},
   "outputs": [
    {
     "data": {
      "text/plain": [
       "{'employee': [{'name': 'pri', 'salary': 2000, 'loction': 'bglr'},\n",
       "  {'name': 'SRK', 'salary': 24000, 'location': ' gkk'}]}"
      ]
     },
     "execution_count": 1,
     "metadata": {},
     "output_type": "execute_result"
    }
   ],
   "source": [
    "{\"employee\":[{\"name\":\"pri\",\n",
    "             \"salary\":2000,\n",
    "             \"loction\":\"bglr\"},\n",
    "            {\"name\" : \"SRK\",\n",
    "             \"salary\" : 24000,\n",
    "             \"location\" : \" gkk\"}]}\n"
   ]
  },
  {
   "cell_type": "markdown",
   "metadata": {},
   "source": [
    "# LOADS DUMP LOAD"
   ]
  },
  {
   "cell_type": "code",
   "execution_count": 5,
   "metadata": {},
   "outputs": [],
   "source": [
    "d='''{\"employee\":[{\"name\":\"pri\",\n",
    "             \"salary\":2000,\n",
    "             \"loction\":\"bglr\"},\n",
    "            {\"name\" : \"SRK\",\n",
    "             \"salary\" : 24000,\n",
    "             \"location\" : \" gkk\"}]}'''\n"
   ]
  },
  {
   "cell_type": "code",
   "execution_count": 6,
   "metadata": {},
   "outputs": [],
   "source": [
    "import json"
   ]
  },
  {
   "cell_type": "code",
   "execution_count": 7,
   "metadata": {},
   "outputs": [],
   "source": [
    "data=json.loads(d)"
   ]
  },
  {
   "cell_type": "code",
   "execution_count": 15,
   "metadata": {},
   "outputs": [
    {
     "name": "stdout",
     "output_type": "stream",
     "text": [
      "{'name': 'pri', 'salary': 2000, 'loction': 'bglr'}\n",
      "<class 'dict'>\n",
      "{'name': 'SRK', 'salary': 24000, 'location': ' gkk'}\n",
      "<class 'dict'>\n"
     ]
    }
   ],
   "source": [
    "for i in data[\"employee\"]:\n",
    "    print (i)\n",
    "    print (type(i))"
   ]
  },
  {
   "cell_type": "code",
   "execution_count": 14,
   "metadata": {},
   "outputs": [
    {
     "name": "stdout",
     "output_type": "stream",
     "text": [
      "pri\n",
      "SRK\n"
     ]
    }
   ],
   "source": [
    "for i in data[\"employee\"]:\n",
    "    print (i[\"name\"])"
   ]
  },
  {
   "cell_type": "code",
   "execution_count": null,
   "metadata": {},
   "outputs": [],
   "source": []
  },
  {
   "cell_type": "code",
   "execution_count": 19,
   "metadata": {},
   "outputs": [],
   "source": [
    "url=\"https://api.trademe.co.nz/v1/Categories/MotorBikes.json\""
   ]
  },
  {
   "cell_type": "code",
   "execution_count": 20,
   "metadata": {},
   "outputs": [],
   "source": [
    "import json"
   ]
  },
  {
   "cell_type": "code",
   "execution_count": 21,
   "metadata": {},
   "outputs": [],
   "source": [
    "from urllib.request import urlopen"
   ]
  },
  {
   "cell_type": "code",
   "execution_count": 23,
   "metadata": {},
   "outputs": [],
   "source": [
    "data=urlopen(url)\n",
    "result=json.loads(data.read())"
   ]
  },
  {
   "cell_type": "code",
   "execution_count": 24,
   "metadata": {},
   "outputs": [
    {
     "data": {
      "text/plain": [
       "{'Name': 'Motorbikes',\n",
       " 'Number': '0001-0026-1255-',\n",
       " 'Path': '/Trade-Me-Motors/Motorbikes/Motorbikes',\n",
       " 'Subcategories': [{'Name': 'Classic & vintage',\n",
       "   'Number': '0001-0026-1255-2913-',\n",
       "   'Path': '/Trade-Me-Motors/Motorbikes/Motorbikes/Classic-vintage',\n",
       "   'HasClassifieds': True,\n",
       "   'AreaOfBusiness': 3,\n",
       "   'IsLeaf': True},\n",
       "  {'Name': 'Cruiser',\n",
       "   'Number': '0001-0026-1255-2508-',\n",
       "   'Path': '/Trade-Me-Motors/Motorbikes/Motorbikes/Cruiser',\n",
       "   'HasClassifieds': True,\n",
       "   'AreaOfBusiness': 3,\n",
       "   'IsLeaf': True},\n",
       "  {'Name': 'Dirt bikes',\n",
       "   'Number': '0001-0026-1255-2911-',\n",
       "   'Path': '/Trade-Me-Motors/Motorbikes/Motorbikes/Dirt-bikes',\n",
       "   'HasClassifieds': True,\n",
       "   'AreaOfBusiness': 3,\n",
       "   'IsLeaf': True},\n",
       "  {'Name': 'Dual purpose',\n",
       "   'Number': '0001-0026-1255-2506-',\n",
       "   'Path': '/Trade-Me-Motors/Motorbikes/Motorbikes/Dual-purpose',\n",
       "   'HasClassifieds': True,\n",
       "   'AreaOfBusiness': 3,\n",
       "   'IsLeaf': True},\n",
       "  {'Name': 'Pocket & pit bikes',\n",
       "   'Number': '0001-0026-1255-3443-',\n",
       "   'Path': '/Trade-Me-Motors/Motorbikes/Motorbikes/Pocket-pit-bikes',\n",
       "   'HasClassifieds': True,\n",
       "   'AreaOfBusiness': 3,\n",
       "   'IsLeaf': True},\n",
       "  {'Name': 'Quads & ATVs',\n",
       "   'Number': '0001-0026-1255-2912-',\n",
       "   'Path': '/Trade-Me-Motors/Motorbikes/Motorbikes/Quads-ATVs',\n",
       "   'HasClassifieds': True,\n",
       "   'AreaOfBusiness': 3,\n",
       "   'IsLeaf': True},\n",
       "  {'Name': 'Scooters',\n",
       "   'Number': '0001-0026-1255-3909-',\n",
       "   'Path': '/Trade-Me-Motors/Motorbikes/Motorbikes/Scooters',\n",
       "   'HasClassifieds': True,\n",
       "   'AreaOfBusiness': 3,\n",
       "   'IsLeaf': True},\n",
       "  {'Name': 'Sports',\n",
       "   'Number': '0001-0026-1255-2509-',\n",
       "   'Path': '/Trade-Me-Motors/Motorbikes/Motorbikes/Sports',\n",
       "   'HasClassifieds': True,\n",
       "   'AreaOfBusiness': 3,\n",
       "   'IsLeaf': True},\n",
       "  {'Name': 'Tourers',\n",
       "   'Number': '0001-0026-1255-4636-',\n",
       "   'Path': '/Trade-Me-Motors/Motorbikes/Motorbikes/Tourers',\n",
       "   'HasClassifieds': True,\n",
       "   'AreaOfBusiness': 3,\n",
       "   'IsLeaf': True},\n",
       "  {'Name': 'Other',\n",
       "   'Number': '0001-0026-1255-1286-',\n",
       "   'Path': '/Trade-Me-Motors/Motorbikes/Motorbikes/Other',\n",
       "   'HasClassifieds': True,\n",
       "   'AreaOfBusiness': 3,\n",
       "   'IsLeaf': True}],\n",
       " 'HasClassifieds': True,\n",
       " 'AreaOfBusiness': 3,\n",
       " 'CanHaveSecondCategory': True,\n",
       " 'IsLeaf': False}"
      ]
     },
     "execution_count": 24,
     "metadata": {},
     "output_type": "execute_result"
    }
   ],
   "source": [
    "result"
   ]
  },
  {
   "cell_type": "code",
   "execution_count": 53,
   "metadata": {},
   "outputs": [],
   "source": [
    "with open(\"motorbike.json\",\"w\") as f :\n",
    "    json.dump(result,f)\n",
    "    \n",
    "    "
   ]
  },
  {
   "cell_type": "code",
   "execution_count": 28,
   "metadata": {},
   "outputs": [],
   "source": [
    "with open(\"motorbike.json\") as f:\n",
    "    a=json.load(f)"
   ]
  },
  {
   "cell_type": "code",
   "execution_count": 44,
   "metadata": {},
   "outputs": [
    {
     "data": {
      "text/plain": [
       "{'Name': 'Motorbikes',\n",
       " 'Number': '0001-0026-1255-',\n",
       " 'Path': '/Trade-Me-Motors/Motorbikes/Motorbikes',\n",
       " 'Subcategories': [{'Name': 'Classic & vintage',\n",
       "   'Number': '0001-0026-1255-2913-',\n",
       "   'Path': '/Trade-Me-Motors/Motorbikes/Motorbikes/Classic-vintage',\n",
       "   'HasClassifieds': True,\n",
       "   'AreaOfBusiness': 3,\n",
       "   'IsLeaf': True},\n",
       "  {'Name': 'Cruiser',\n",
       "   'Number': '0001-0026-1255-2508-',\n",
       "   'Path': '/Trade-Me-Motors/Motorbikes/Motorbikes/Cruiser',\n",
       "   'HasClassifieds': True,\n",
       "   'AreaOfBusiness': 3,\n",
       "   'IsLeaf': True},\n",
       "  {'Name': 'Dirt bikes',\n",
       "   'Number': '0001-0026-1255-2911-',\n",
       "   'Path': '/Trade-Me-Motors/Motorbikes/Motorbikes/Dirt-bikes',\n",
       "   'HasClassifieds': True,\n",
       "   'AreaOfBusiness': 3,\n",
       "   'IsLeaf': True},\n",
       "  {'Name': 'Dual purpose',\n",
       "   'Number': '0001-0026-1255-2506-',\n",
       "   'Path': '/Trade-Me-Motors/Motorbikes/Motorbikes/Dual-purpose',\n",
       "   'HasClassifieds': True,\n",
       "   'AreaOfBusiness': 3,\n",
       "   'IsLeaf': True},\n",
       "  {'Name': 'Pocket & pit bikes',\n",
       "   'Number': '0001-0026-1255-3443-',\n",
       "   'Path': '/Trade-Me-Motors/Motorbikes/Motorbikes/Pocket-pit-bikes',\n",
       "   'HasClassifieds': True,\n",
       "   'AreaOfBusiness': 3,\n",
       "   'IsLeaf': True},\n",
       "  {'Name': 'Quads & ATVs',\n",
       "   'Number': '0001-0026-1255-2912-',\n",
       "   'Path': '/Trade-Me-Motors/Motorbikes/Motorbikes/Quads-ATVs',\n",
       "   'HasClassifieds': True,\n",
       "   'AreaOfBusiness': 3,\n",
       "   'IsLeaf': True},\n",
       "  {'Name': 'Scooters',\n",
       "   'Number': '0001-0026-1255-3909-',\n",
       "   'Path': '/Trade-Me-Motors/Motorbikes/Motorbikes/Scooters',\n",
       "   'HasClassifieds': True,\n",
       "   'AreaOfBusiness': 3,\n",
       "   'IsLeaf': True},\n",
       "  {'Name': 'Sports',\n",
       "   'Number': '0001-0026-1255-2509-',\n",
       "   'Path': '/Trade-Me-Motors/Motorbikes/Motorbikes/Sports',\n",
       "   'HasClassifieds': True,\n",
       "   'AreaOfBusiness': 3,\n",
       "   'IsLeaf': True},\n",
       "  {'Name': 'Tourers',\n",
       "   'Number': '0001-0026-1255-4636-',\n",
       "   'Path': '/Trade-Me-Motors/Motorbikes/Motorbikes/Tourers',\n",
       "   'HasClassifieds': True,\n",
       "   'AreaOfBusiness': 3,\n",
       "   'IsLeaf': True},\n",
       "  {'Name': 'Other',\n",
       "   'Number': '0001-0026-1255-1286-',\n",
       "   'Path': '/Trade-Me-Motors/Motorbikes/Motorbikes/Other',\n",
       "   'HasClassifieds': True,\n",
       "   'AreaOfBusiness': 3,\n",
       "   'IsLeaf': True}],\n",
       " 'HasClassifieds': True,\n",
       " 'AreaOfBusiness': 3,\n",
       " 'CanHaveSecondCategory': True,\n",
       " 'IsLeaf': False}"
      ]
     },
     "execution_count": 44,
     "metadata": {},
     "output_type": "execute_result"
    }
   ],
   "source": [
    "a"
   ]
  },
  {
   "cell_type": "code",
   "execution_count": 50,
   "metadata": {},
   "outputs": [
    {
     "name": "stdout",
     "output_type": "stream",
     "text": [
      "Classic & vintage\n",
      "Cruiser\n",
      "Dirt bikes\n",
      "Dual purpose\n",
      "Pocket & pit bikes\n",
      "Quads & ATVs\n",
      "Scooters\n",
      "Sports\n",
      "Tourers\n",
      "Other\n"
     ]
    }
   ],
   "source": [
    "for i in a['Subcategories']:\n",
    "    print(i[\"Name\"])"
   ]
  },
  {
   "cell_type": "code",
   "execution_count": 52,
   "metadata": {},
   "outputs": [
    {
     "data": {
      "text/plain": [
       "10"
      ]
     },
     "execution_count": 52,
     "metadata": {},
     "output_type": "execute_result"
    }
   ],
   "source": [
    "len(a['Subcategories'])"
   ]
  },
  {
   "cell_type": "code",
   "execution_count": null,
   "metadata": {},
   "outputs": [],
   "source": []
  },
  {
   "cell_type": "code",
   "execution_count": null,
   "metadata": {},
   "outputs": [],
   "source": []
  },
  {
   "cell_type": "code",
   "execution_count": 51,
   "metadata": {},
   "outputs": [],
   "source": [
    "json_string = \"\"\"\n",
    "{\n",
    "    \"person\": {\n",
    "        \"name\": \"John\",\n",
    "        \"age\": 30,\n",
    "        \"city\": \"New York\",\n",
    "        \"pets\": [\n",
    "            {\n",
    "                \"type\": \"dog\",\n",
    "                \"name\": \"Rufus\"\n",
    "            },\n",
    "            {\n",
    "                \"type\": \"cat\",\n",
    "                \"name\": \"Fluffy\"\n",
    "            }\n",
    "        ]\n",
    "    }\n",
    "}\n",
    "\"\"\""
   ]
  },
  {
   "cell_type": "code",
   "execution_count": 31,
   "metadata": {},
   "outputs": [],
   "source": [
    "import json\n"
   ]
  },
  {
   "cell_type": "code",
   "execution_count": 33,
   "metadata": {},
   "outputs": [],
   "source": [
    "data=json.loads(json_string)"
   ]
  },
  {
   "cell_type": "code",
   "execution_count": 34,
   "metadata": {},
   "outputs": [
    {
     "data": {
      "text/plain": [
       "{'person': {'name': 'John',\n",
       "  'age': 30,\n",
       "  'city': 'New York',\n",
       "  'pets': [{'type': 'dog', 'name': 'Rufus'},\n",
       "   {'type': 'cat', 'name': 'Fluffy'}]}}"
      ]
     },
     "execution_count": 34,
     "metadata": {},
     "output_type": "execute_result"
    }
   ],
   "source": [
    "data"
   ]
  },
  {
   "cell_type": "code",
   "execution_count": 42,
   "metadata": {},
   "outputs": [
    {
     "name": "stdout",
     "output_type": "stream",
     "text": [
      "dog\n",
      "cat\n"
     ]
    }
   ],
   "source": [
    "for i in data[\"person\"][\"pets\"]:\n",
    "       print(i[\"type\"])\n",
    " "
   ]
  },
  {
   "cell_type": "code",
   "execution_count": null,
   "metadata": {},
   "outputs": [],
   "source": []
  },
  {
   "cell_type": "code",
   "execution_count": null,
   "metadata": {},
   "outputs": [],
   "source": []
  },
  {
   "cell_type": "code",
   "execution_count": 43,
   "metadata": {},
   "outputs": [
    {
     "name": "stdout",
     "output_type": "stream",
     "text": [
      "Name: John, Age: 30\n",
      "First Pet Name: Rufus\n"
     ]
    }
   ],
   "source": [
    "import json\n",
    "\n",
    "# Sample nested JSON\n",
    "json_string = \"\"\"\n",
    "{\n",
    "    \"person\": {\n",
    "        \"name\": \"John\",\n",
    "        \"age\": 30,\n",
    "        \"city\": \"New York\",\n",
    "        \"pets\": [\n",
    "            {\n",
    "                \"type\": \"dog\",\n",
    "                \"name\": \"Rufus\"\n",
    "            },\n",
    "            {\n",
    "                \"type\": \"cat\",\n",
    "                \"name\": \"Fluffy\"\n",
    "            }\n",
    "        ]\n",
    "    }\n",
    "}\n",
    "\"\"\"\n",
    "\n",
    "# Load the JSON string into a Python dictionary\n",
    "data = json.loads(json_string)\n",
    "\n",
    "# Extract the name and age of the person\n",
    "name = data['person']['name']\n",
    "age = data['person']['age']\n",
    "print(f\"Name: {name}, Age: {age}\")\n",
    "\n",
    "# Extract the name of the first pet\n",
    "first_pet_name = data['person']['pets'][0]['name']\n",
    "print(f\"First Pet Name: {first_pet_name}\")\n"
   ]
  },
  {
   "cell_type": "code",
   "execution_count": null,
   "metadata": {},
   "outputs": [],
   "source": []
  }
 ],
 "metadata": {
  "kernelspec": {
   "display_name": "Python 3",
   "language": "python",
   "name": "python3"
  },
  "language_info": {
   "codemirror_mode": {
    "name": "ipython",
    "version": 3
   },
   "file_extension": ".py",
   "mimetype": "text/x-python",
   "name": "python",
   "nbconvert_exporter": "python",
   "pygments_lexer": "ipython3",
   "version": "3.7.4"
  }
 },
 "nbformat": 4,
 "nbformat_minor": 2
}
