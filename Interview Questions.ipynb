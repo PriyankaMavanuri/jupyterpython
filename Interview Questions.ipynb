{
 "cells": [
  {
   "cell_type": "code",
   "execution_count": 12,
   "metadata": {},
   "outputs": [],
   "source": [
    "#SWAP THE INTEGERS\n",
    "a=3\n",
    "b=9\n"
   ]
  },
  {
   "cell_type": "code",
   "execution_count": 13,
   "metadata": {},
   "outputs": [
    {
     "name": "stdout",
     "output_type": "stream",
     "text": [
      "9\n",
      "3\n"
     ]
    }
   ],
   "source": [
    "temp=a\n",
    "a = b\n",
    "b = temp\n",
    "print(a)\n",
    "print(b)"
   ]
  },
  {
   "cell_type": "code",
   "execution_count": null,
   "metadata": {},
   "outputs": [],
   "source": [
    "#factorial of any num"
   ]
  },
  {
   "cell_type": "code",
   "execution_count": 22,
   "metadata": {},
   "outputs": [],
   "source": [
    "def factorial(n):\n",
    "    result=1\n",
    "    for i in range(1,n+1):\n",
    "        result=i*result\n",
    "    return result"
   ]
  },
  {
   "cell_type": "code",
   "execution_count": 20,
   "metadata": {},
   "outputs": [
    {
     "name": "stdout",
     "output_type": "stream",
     "text": [
      "120\n"
     ]
    }
   ],
   "source": [
    "factorial(5)"
   ]
  },
  {
   "cell_type": "code",
   "execution_count": 37,
   "metadata": {},
   "outputs": [],
   "source": [
    "#push all zeros to the end in list\n",
    "\n",
    "a = [5,8,0,5,0,3,0,7]\n",
    "r = [5,8,5,3,7,0,0,0]"
   ]
  },
  {
   "cell_type": "code",
   "execution_count": 39,
   "metadata": {},
   "outputs": [
    {
     "name": "stdout",
     "output_type": "stream",
     "text": [
      "[5, 8, 5, 3, 7, 0, 0, 0]\n"
     ]
    }
   ],
   "source": [
    "for i in a:\n",
    "    if i==0:\n",
    "        a.remove(i)\n",
    "        a.append(0)\n",
    "print (a)"
   ]
  },
  {
   "cell_type": "code",
   "execution_count": null,
   "metadata": {},
   "outputs": [],
   "source": [
    "\n",
    "\n",
    "\n"
   ]
  },
  {
   "cell_type": "code",
   "execution_count": 13,
   "metadata": {},
   "outputs": [
    {
     "data": {
      "text/plain": [
       "19"
      ]
     },
     "execution_count": 13,
     "metadata": {},
     "output_type": "execute_result"
    }
   ],
   "source": [
    "# write a code without using inbuilt len fucntion to count letters in string \n",
    "\n",
    "s=\"this is basic calss\" #using inbuilt \n",
    "\n",
    "len(s)"
   ]
  },
  {
   "cell_type": "code",
   "execution_count": 14,
   "metadata": {},
   "outputs": [
    {
     "name": "stdout",
     "output_type": "stream",
     "text": [
      "19\n"
     ]
    }
   ],
   "source": [
    "#withiout using len\n",
    "count=0\n",
    "for i in s:\n",
    "    #count=count+1\n",
    "    count+=1\n",
    "    \n",
    "print (count)"
   ]
  },
  {
   "cell_type": "code",
   "execution_count": null,
   "metadata": {},
   "outputs": [],
   "source": []
  },
  {
   "cell_type": "code",
   "execution_count": 45,
   "metadata": {},
   "outputs": [
    {
     "name": "stdout",
     "output_type": "stream",
     "text": [
      "P ia not an vowel\n",
      "r ia not an vowel\n",
      "i is an vowel\n",
      "y ia not an vowel\n",
      "a is an vowel\n",
      "n ia not an vowel\n",
      "k ia not an vowel\n",
      "a is an vowel\n"
     ]
    }
   ],
   "source": [
    "a=\"Priyanka\"\n",
    "\n",
    "v=\"AaEeIiOoUu\"\n",
    "for i in a:\n",
    "    if i in v:\n",
    "        print(i + \" is an vowel\")\n",
    "    else :\n",
    "        print(i + \" ia not an vowel\")\n",
    "        \n"
   ]
  },
  {
   "cell_type": "code",
   "execution_count": null,
   "metadata": {},
   "outputs": [],
   "source": []
  },
  {
   "cell_type": "code",
   "execution_count": 14,
   "metadata": {},
   "outputs": [
    {
     "name": "stdout",
     "output_type": "stream",
     "text": [
      "its palindrome\n"
     ]
    }
   ],
   "source": [
    "#find out wether word is palindrome or not\n",
    "\n",
    "a=\"Madam\"\n",
    "x=a.lower()\n",
    "result=x[::-1]\n",
    "if result==x:\n",
    "    print (\"its palindrome\")\n",
    "else :\n",
    "    print(\"its not palindrome\")\n",
    "    "
   ]
  },
  {
   "cell_type": "code",
   "execution_count": null,
   "metadata": {},
   "outputs": [],
   "source": []
  },
  {
   "cell_type": "code",
   "execution_count": 16,
   "metadata": {},
   "outputs": [
    {
     "name": "stdout",
     "output_type": "stream",
     "text": [
      "121\n",
      "its palindrome\n"
     ]
    }
   ],
   "source": [
    "#to check number is palindrome or not take input as it reads num as string only\n",
    "a= input()\n",
    "result=a[::-1]\n",
    "if result==a:\n",
    "    print (\"its palindrome\")\n",
    "else :\n",
    "    print(\"its not palindrome\")\n",
    "    "
   ]
  },
  {
   "cell_type": "code",
   "execution_count": null,
   "metadata": {},
   "outputs": [],
   "source": []
  },
  {
   "cell_type": "code",
   "execution_count": 38,
   "metadata": {},
   "outputs": [
    {
     "name": "stdout",
     "output_type": "stream",
     "text": [
      "[16, 64]\n"
     ]
    }
   ],
   "source": [
    "# multiply similar numbers from both list\n",
    "\n",
    "a=[1,4,5,8]\n",
    "b=[4,4,9,8]\n",
    "\n",
    "c=zip(a,b)\n",
    "ans=[]\n",
    "for i,j in c:\n",
    "    if i==j:\n",
    "        result = i*j\n",
    "        ans.append(result)\n",
    "print (ans)\n",
    "        \n"
   ]
  },
  {
   "cell_type": "code",
   "execution_count": 41,
   "metadata": {},
   "outputs": [],
   "source": [
    " result=[i*j for i,j in zip(a,b) if i==j]  #using LIST COMPRHENSION"
   ]
  },
  {
   "cell_type": "code",
   "execution_count": 42,
   "metadata": {},
   "outputs": [
    {
     "data": {
      "text/plain": [
       "[16, 64]"
      ]
     },
     "execution_count": 42,
     "metadata": {},
     "output_type": "execute_result"
    }
   ],
   "source": [
    "result"
   ]
  },
  {
   "cell_type": "code",
   "execution_count": null,
   "metadata": {},
   "outputs": [],
   "source": []
  },
  {
   "cell_type": "code",
   "execution_count": 56,
   "metadata": {},
   "outputs": [],
   "source": [
    "x = \"cAlorie coNsumed\"\n",
    "r = \"Calorie_Consumed\""
   ]
  },
  {
   "cell_type": "code",
   "execution_count": 60,
   "metadata": {},
   "outputs": [],
   "source": [
    "r=x.title()"
   ]
  },
  {
   "cell_type": "code",
   "execution_count": 59,
   "metadata": {},
   "outputs": [
    {
     "data": {
      "text/plain": [
       "'Calorie_Consumed'"
      ]
     },
     "execution_count": 59,
     "metadata": {},
     "output_type": "execute_result"
    }
   ],
   "source": [
    "r.replace(\" \",\"_\")"
   ]
  },
  {
   "cell_type": "code",
   "execution_count": null,
   "metadata": {},
   "outputs": [],
   "source": []
  },
  {
   "cell_type": "code",
   "execution_count": 2,
   "metadata": {},
   "outputs": [
    {
     "name": "stdout",
     "output_type": "stream",
     "text": [
      "11 10\n"
     ]
    }
   ],
   "source": [
    "a=10\n",
    "b=11\n",
    "temp=a\n",
    "a=b\n",
    "b=temp\n",
    "print(a,b)"
   ]
  },
  {
   "cell_type": "code",
   "execution_count": 3,
   "metadata": {},
   "outputs": [
    {
     "name": "stdout",
     "output_type": "stream",
     "text": [
      "120\n"
     ]
    }
   ],
   "source": [
    "num=1\n",
    "for i in range(1,6):\n",
    "    num=i*num\n",
    "print(num)\n",
    "    "
   ]
  },
  {
   "cell_type": "code",
   "execution_count": 5,
   "metadata": {},
   "outputs": [],
   "source": [
    "def factorial(n):\n",
    "    num=1\n",
    "    for i in range(1,n+1):\n",
    "        num=i*num\n",
    "    return num\n",
    "\n"
   ]
  },
  {
   "cell_type": "code",
   "execution_count": 10,
   "metadata": {},
   "outputs": [
    {
     "data": {
      "text/plain": [
       "3628800"
      ]
     },
     "execution_count": 10,
     "metadata": {},
     "output_type": "execute_result"
    }
   ],
   "source": [
    "factorial(10)"
   ]
  },
  {
   "cell_type": "code",
   "execution_count": 12,
   "metadata": {},
   "outputs": [
    {
     "name": "stdout",
     "output_type": "stream",
     "text": [
      "[1, 2, 3, 4, 5, 6, 0, 0, 0, 0]\n"
     ]
    }
   ],
   "source": [
    "mylist=[1,0,2,0,3,4,0,0,5,6]\n",
    "for i in mylist:\n",
    "    if i==0:\n",
    "        mylist.remove(0)\n",
    "        mylist.append(0)\n",
    "print(mylist)"
   ]
  },
  {
   "cell_type": "code",
   "execution_count": 19,
   "metadata": {},
   "outputs": [
    {
     "name": "stdout",
     "output_type": "stream",
     "text": [
      "p is not a vowel\n",
      "r is not a vowel\n",
      "i is a vowel\n",
      "y is not a vowel\n",
      "a is a vowel\n",
      "n is not a vowel\n",
      "a is a vowel\n"
     ]
    }
   ],
   "source": [
    "s=\"priyana\"\n",
    "v=\"aeiou\"\n",
    "for i in s:\n",
    "    if i in v:\n",
    "        #print (i+'=yes its vowel')\n",
    "        print( \"{} is a vowel\".format(i))\n",
    "    else :\n",
    "        #print (i+\"=no its not\")\n",
    "        print(\"{} is not a vowel\".format(i))\n",
    "    "
   ]
  },
  {
   "cell_type": "code",
   "execution_count": 34,
   "metadata": {},
   "outputs": [],
   "source": [
    "#palindrom\n",
    "def palindrome(n):\n",
    "        reverse=n[::-1]\n",
    "        if reverse==n:\n",
    "            print( \"its palindrome\")\n",
    "        else:\n",
    "            print(\"its a not\")\n"
   ]
  },
  {
   "cell_type": "code",
   "execution_count": 35,
   "metadata": {},
   "outputs": [
    {
     "name": "stdout",
     "output_type": "stream",
     "text": [
      "its palindrome\n"
     ]
    }
   ],
   "source": [
    "palindrome(\"madam\")"
   ]
  },
  {
   "cell_type": "code",
   "execution_count": 38,
   "metadata": {},
   "outputs": [
    {
     "name": "stdout",
     "output_type": "stream",
     "text": [
      "121\n",
      "its palindrome\n"
     ]
    }
   ],
   "source": [
    "x=input()\n",
    "reverse=x[::-1]\n",
    "if reverse==x:\n",
    "    print( \"its palindrome\")\n",
    "else:\n",
    "    print(\"its a not\")\n",
    "    "
   ]
  },
  {
   "cell_type": "code",
   "execution_count": null,
   "metadata": {},
   "outputs": [],
   "source": []
  },
  {
   "cell_type": "code",
   "execution_count": 50,
   "metadata": {},
   "outputs": [
    {
     "name": "stdout",
     "output_type": "stream",
     "text": [
      "[16, 64]\n"
     ]
    }
   ],
   "source": [
    "a=[1,4,5,8]\n",
    "b=[4,4,9,8]\n",
    "c=zip(a,b)\n",
    "result = []\n",
    "for i,j in c:\n",
    "    if i==j:\n",
    "        r=i*j\n",
    "        result.append(r)\n",
    "print(result)"
   ]
  },
  {
   "cell_type": "code",
   "execution_count": 53,
   "metadata": {},
   "outputs": [],
   "source": [
    "result=[i*j for i,j in zip(a,b) if i==j]"
   ]
  },
  {
   "cell_type": "code",
   "execution_count": 54,
   "metadata": {},
   "outputs": [
    {
     "data": {
      "text/plain": [
       "[16, 64]"
      ]
     },
     "execution_count": 54,
     "metadata": {},
     "output_type": "execute_result"
    }
   ],
   "source": [
    "result"
   ]
  },
  {
   "cell_type": "code",
   "execution_count": null,
   "metadata": {},
   "outputs": [],
   "source": []
  },
  {
   "cell_type": "code",
   "execution_count": 1,
   "metadata": {},
   "outputs": [],
   "source": [
    "#find the num of zeros or ones wdt using if condition or inbuilt ucntion \n",
    "\n"
   ]
  },
  {
   "cell_type": "code",
   "execution_count": 5,
   "metadata": {},
   "outputs": [
    {
     "name": "stdout",
     "output_type": "stream",
     "text": [
      "3\n"
     ]
    }
   ],
   "source": [
    "l=[1,0,0,1,0,1]   #using if\n",
    "r=0\n",
    "for i in l:\n",
    "    if i == 1:\n",
    "        r+=1\n",
    "print (r)\n",
    "        "
   ]
  },
  {
   "cell_type": "code",
   "execution_count": 6,
   "metadata": {},
   "outputs": [
    {
     "data": {
      "text/plain": [
       "3"
      ]
     },
     "execution_count": 6,
     "metadata": {},
     "output_type": "execute_result"
    }
   ],
   "source": [
    "l.count(1)  #using inbuilt"
   ]
  },
  {
   "cell_type": "code",
   "execution_count": 10,
   "metadata": {},
   "outputs": [
    {
     "name": "stdout",
     "output_type": "stream",
     "text": [
      "3\n"
     ]
    }
   ],
   "source": [
    "l=[1,0,0,1,0,1]  #only to find of num zeros\n",
    "\n",
    "sum_ones = 0\n",
    "\n",
    "for i in l:\n",
    "    sum_ones =sum_ones+i\n",
    "\n",
    "total_len = len(l)\n",
    "\n",
    "num_zeros = total_len-sum_ones\n",
    "\n",
    "print(num_zeros)"
   ]
  },
  {
   "cell_type": "code",
   "execution_count": 11,
   "metadata": {},
   "outputs": [],
   "source": [
    "#remove duplicate items from list\n"
   ]
  },
  {
   "cell_type": "code",
   "execution_count": 12,
   "metadata": {},
   "outputs": [
    {
     "name": "stdout",
     "output_type": "stream",
     "text": [
      "[4, 3, 5, 2]\n"
     ]
    }
   ],
   "source": [
    "l=[4,4,3,5,2,3,4]\n",
    "emp_list=[]\n",
    "for i in l:\n",
    "    if i not in emp_list:\n",
    "        emp_list.append(i)\n",
    "print(emp_list)\n",
    "        "
   ]
  },
  {
   "cell_type": "code",
   "execution_count": 13,
   "metadata": {},
   "outputs": [],
   "source": [
    "#count num of letters in a world\n"
   ]
  },
  {
   "cell_type": "code",
   "execution_count": 14,
   "metadata": {},
   "outputs": [
    {
     "name": "stdout",
     "output_type": "stream",
     "text": [
      "{'m': 2, 'u': 1, 'b': 1, 'a': 1, 'i': 1}\n"
     ]
    }
   ],
   "source": [
    "name=\"mumbai\"\n",
    "result_count={}\n",
    "for i in name:\n",
    "    if i not in result_count:\n",
    "        result_count [i]=0\n",
    "    result_count [i]+=1\n",
    "print(result_count)"
   ]
  },
  {
   "cell_type": "code",
   "execution_count": 18,
   "metadata": {},
   "outputs": [
    {
     "name": "stdout",
     "output_type": "stream",
     "text": [
      "[1, 3, 4, 6, 8, 9]\n",
      "[9, 8, 6, 4, 3, 1]\n"
     ]
    }
   ],
   "source": [
    "#using inbuilt for asend and ddescend\n",
    "l=[1,4,9,3,8,6]    #using inbuilt for asend and ddescend\n",
    "l.sort()\n",
    "print(l)\n",
    "l.reverse() \n",
    "print (l)"
   ]
  },
  {
   "cell_type": "code",
   "execution_count": 25,
   "metadata": {},
   "outputs": [
    {
     "name": "stdout",
     "output_type": "stream",
     "text": [
      "[9, 7, 6, 4, 3, 1]\n"
     ]
    }
   ],
   "source": [
    "# without using inbuilt for asend and ddescen\n",
    "l=[1,7,9,4,3,6]\n",
    "for i in range(len(l)):\n",
    "    for j in range(i+1,len(l)):\n",
    "        if l[i]<l[j]:\n",
    "            temp=l[i]             #reverse logic \n",
    "            l[i]= l[j]\n",
    "            l[j]= temp\n",
    "            \n",
    "print(l)"
   ]
  },
  {
   "cell_type": "code",
   "execution_count": 23,
   "metadata": {},
   "outputs": [
    {
     "name": "stdout",
     "output_type": "stream",
     "text": [
      "2345 1211\n"
     ]
    }
   ],
   "source": [
    "a=1211\n",
    "b=2345\n",
    "temp=a\n",
    "a=b\n",
    "b=temp\n",
    "print(a,b)"
   ]
  },
  {
   "cell_type": "code",
   "execution_count": null,
   "metadata": {},
   "outputs": [],
   "source": []
  },
  {
   "cell_type": "code",
   "execution_count": 26,
   "metadata": {},
   "outputs": [],
   "source": [
    "#prime num\n"
   ]
  },
  {
   "cell_type": "code",
   "execution_count": 17,
   "metadata": {},
   "outputs": [
    {
     "name": "stdout",
     "output_type": "stream",
     "text": [
      "its prime\n",
      "its prime\n",
      "its prime\n",
      "its prime\n",
      "its prime\n",
      "its prime\n",
      "its prime\n",
      "its prime\n",
      "its prime\n"
     ]
    }
   ],
   "source": [
    "a=11\n",
    "r=2\n",
    "while r<a:\n",
    "    if a%r==0:\n",
    "        r+=1\n",
    "        print(\"its not prime\")\n",
    "        break\n",
    "    else:\n",
    "        r+=1\n",
    "        print(\"its prime\")\n",
    "        "
   ]
  },
  {
   "cell_type": "code",
   "execution_count": 1,
   "metadata": {},
   "outputs": [
    {
     "name": "stdout",
     "output_type": "stream",
     "text": [
      "15\n",
      "no prime\n"
     ]
    }
   ],
   "source": [
    "a=int(input())\n",
    "for i in range(2,a):\n",
    "        if a%i==0:\n",
    "            print (\"no prime\")\n",
    "            break\n",
    "else :\n",
    "     print (\"its prime\")\n",
    "            \n",
    "    \n"
   ]
  },
  {
   "cell_type": "code",
   "execution_count": null,
   "metadata": {},
   "outputs": [],
   "source": []
  },
  {
   "cell_type": "code",
   "execution_count": null,
   "metadata": {},
   "outputs": [],
   "source": []
  }
 ],
 "metadata": {
  "kernelspec": {
   "display_name": "Python 3",
   "language": "python",
   "name": "python3"
  },
  "language_info": {
   "codemirror_mode": {
    "name": "ipython",
    "version": 3
   },
   "file_extension": ".py",
   "mimetype": "text/x-python",
   "name": "python",
   "nbconvert_exporter": "python",
   "pygments_lexer": "ipython3",
   "version": "3.7.4"
  }
 },
 "nbformat": 4,
 "nbformat_minor": 2
}
