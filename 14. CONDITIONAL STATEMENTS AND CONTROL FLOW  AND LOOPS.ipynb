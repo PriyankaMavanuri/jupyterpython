{
 "cells": [
  {
   "cell_type": "markdown",
   "metadata": {},
   "source": [
    "# If Elif ELse condition"
   ]
  },
  {
   "cell_type": "code",
   "execution_count": 4,
   "metadata": {},
   "outputs": [
    {
     "name": "stdout",
     "output_type": "stream",
     "text": [
      "dont eat\n"
     ]
    }
   ],
   "source": [
    "hungry=False\n",
    "if hungry ==True:\n",
    "    print(\"eat\")\n",
    "else:\n",
    "    print(\"dont eat\")"
   ]
  },
  {
   "cell_type": "code",
   "execution_count": 19,
   "metadata": {},
   "outputs": [
    {
     "name": "stdout",
     "output_type": "stream",
     "text": [
      "100000\n",
      " you are a manager\n"
     ]
    }
   ],
   "source": [
    "# 0 to 30000 junior devpr\n",
    "# 30000 to 50000 devpr\n",
    "# 50000 to 1 lak snr devpr\n",
    "# above 1 lak mngr\n",
    "\n",
    "salary=int(input())\n",
    "if salary<30000:\n",
    "    print(\" you are a junior devpr\")\n",
    "elif salary>30000 and salary<50000:\n",
    "    print(\" you are a devpr\")\n",
    "elif salary>50000 and salary<100000:\n",
    "    print(\" you are a snior devpr\")\n",
    "else:\n",
    "    print(\" you are a manager\")"
   ]
  },
  {
   "cell_type": "code",
   "execution_count": null,
   "metadata": {},
   "outputs": [],
   "source": []
  },
  {
   "cell_type": "code",
   "execution_count": null,
   "metadata": {},
   "outputs": [],
   "source": []
  },
  {
   "cell_type": "markdown",
   "metadata": {},
   "source": [
    "# For Loop\n"
   ]
  },
  {
   "cell_type": "code",
   "execution_count": 39,
   "metadata": {},
   "outputs": [
    {
     "name": "stdout",
     "output_type": "stream",
     "text": [
      "1\n",
      "2\n",
      "3\n",
      "4\n",
      "5\n"
     ]
    }
   ],
   "source": [
    "my_list=[1,2,3,4,5]\n",
    "for item in my_list:\n",
    "    print(item)"
   ]
  },
  {
   "cell_type": "code",
   "execution_count": 40,
   "metadata": {},
   "outputs": [
    {
     "name": "stdout",
     "output_type": "stream",
     "text": [
      "5\n",
      "10\n",
      "15\n",
      "20\n",
      "25\n"
     ]
    }
   ],
   "source": [
    "for item in my_list:\n",
    "    result=item*5\n",
    "    print(result)\n",
    "    "
   ]
  },
  {
   "cell_type": "code",
   "execution_count": null,
   "metadata": {},
   "outputs": [],
   "source": []
  },
  {
   "cell_type": "code",
   "execution_count": 38,
   "metadata": {},
   "outputs": [
    {
     "name": "stdout",
     "output_type": "stream",
     "text": [
      "2\n",
      "4\n",
      "6\n",
      "8\n"
     ]
    }
   ],
   "source": [
    "# check even \n",
    "my_list=[1,2,3,4,5,6,7,8,9]\n",
    "for item in my_list:\n",
    "    if item%2==0:     # for odd item%2==1\n",
    "        print(item)\n",
    "    "
   ]
  },
  {
   "cell_type": "code",
   "execution_count": 36,
   "metadata": {},
   "outputs": [
    {
     "name": "stdout",
     "output_type": "stream",
     "text": [
      "the number 1 is odd\n",
      "the number 2 is even\n",
      "the number 3 is odd\n",
      "the number 4 is even\n",
      "the number 5 is odd\n",
      "the number 6 is even\n",
      "the number 7 is odd\n",
      "the number 8 is even\n",
      "the number 9 is odd\n"
     ]
    }
   ],
   "source": [
    "my_list=[1,2,3,4,5,6,7,8,9]\n",
    "for item in my_list:\n",
    "    if item%2==0:\n",
    "        print(\"the number {} is even\".format(item))\n",
    "    else:\n",
    "        print(\"the number {} is odd\".format(item))"
   ]
  },
  {
   "cell_type": "code",
   "execution_count": 44,
   "metadata": {},
   "outputs": [
    {
     "name": "stdout",
     "output_type": "stream",
     "text": [
      "45\n"
     ]
    }
   ],
   "source": [
    "my_list=[1,2,3,4,5,6,7,8,9]\n",
    "total=0\n",
    "for item in my_list:\n",
    "    total=total+item\n",
    "print(total)\n",
    "    "
   ]
  },
  {
   "cell_type": "code",
   "execution_count": 45,
   "metadata": {},
   "outputs": [
    {
     "name": "stdout",
     "output_type": "stream",
     "text": [
      "362880\n"
     ]
    }
   ],
   "source": [
    "my_list=[1,2,3,4,5,6,7,8,9]\n",
    "total=1\n",
    "for item in my_list:\n",
    "    total=total*item\n",
    "print(total)"
   ]
  },
  {
   "cell_type": "code",
   "execution_count": 56,
   "metadata": {},
   "outputs": [
    {
     "name": "stdout",
     "output_type": "stream",
     "text": [
      "pp\n",
      "rr\n",
      "ii\n",
      "yy\n",
      "aa\n",
      "nn\n",
      "kk\n",
      "aa\n"
     ]
    }
   ],
   "source": [
    "# string for loop\n",
    "my_name=\"priyanka\"\n",
    "for item in my_name:\n",
    "    result=item*2\n",
    "    print(result)"
   ]
  },
  {
   "cell_type": "code",
   "execution_count": 58,
   "metadata": {},
   "outputs": [
    {
     "name": "stdout",
     "output_type": "stream",
     "text": [
      "2\n",
      "4\n",
      "6\n",
      "8\n",
      "10\n"
     ]
    }
   ],
   "source": [
    "# tuple for loop\n",
    "my_tuple=(1,2,3,4,5)\n",
    "for item in my_tuple:\n",
    "    result=item*2\n",
    "    print(result)"
   ]
  },
  {
   "cell_type": "code",
   "execution_count": 62,
   "metadata": {},
   "outputs": [
    {
     "name": "stdout",
     "output_type": "stream",
     "text": [
      "(1, 2)\n",
      "(2, 3)\n",
      "(3, 4)\n"
     ]
    }
   ],
   "source": [
    "my_tuple=((1,2),(2,3),(3,4))\n",
    "for item in my_tuple:\n",
    "    print(item)"
   ]
  },
  {
   "cell_type": "code",
   "execution_count": 63,
   "metadata": {},
   "outputs": [
    {
     "name": "stdout",
     "output_type": "stream",
     "text": [
      "1\n",
      "2\n",
      "3\n"
     ]
    }
   ],
   "source": [
    "# TUPLE UNPACKING \n",
    "my_tuple=((1,2),(2,3),(3,4))\n",
    "for i,j in my_tuple:\n",
    "    print(i)\n",
    "    \n",
    "    "
   ]
  },
  {
   "cell_type": "code",
   "execution_count": 76,
   "metadata": {},
   "outputs": [
    {
     "name": "stdout",
     "output_type": "stream",
     "text": [
      "33\n",
      "ss\n",
      "[1, 2, 3]\n"
     ]
    }
   ],
   "source": [
    "# Dictionary for loop\n",
    "my_dic={\"k1\":33,\"k2\":\"ss\",\"k3\":[1,2,3]}\n",
    "for k,v in my_dic.items(): # dic becomes tuple when we use \".items()\" then we can unpac this tuple\n",
    "    print(v)\n",
    "    "
   ]
  },
  {
   "cell_type": "code",
   "execution_count": 71,
   "metadata": {},
   "outputs": [
    {
     "data": {
      "text/plain": [
       "dict_items([('k1', 33), ('k2', 'ss'), ('k3', [1, 2, 3])])"
      ]
     },
     "execution_count": 71,
     "metadata": {},
     "output_type": "execute_result"
    }
   ],
   "source": [
    "my_dic.items()   #items comes in tuple"
   ]
  },
  {
   "cell_type": "code",
   "execution_count": 72,
   "metadata": {},
   "outputs": [
    {
     "data": {
      "text/plain": [
       "dict_values([33, 'ss', [1, 2, 3]])"
      ]
     },
     "execution_count": 72,
     "metadata": {},
     "output_type": "execute_result"
    }
   ],
   "source": [
    "my_dic.values()"
   ]
  },
  {
   "cell_type": "code",
   "execution_count": 73,
   "metadata": {},
   "outputs": [
    {
     "data": {
      "text/plain": [
       "dict_keys(['k1', 'k2', 'k3'])"
      ]
     },
     "execution_count": 73,
     "metadata": {},
     "output_type": "execute_result"
    }
   ],
   "source": [
    "my_dic.keys()"
   ]
  },
  {
   "cell_type": "code",
   "execution_count": 90,
   "metadata": {},
   "outputs": [
    {
     "name": "stdout",
     "output_type": "stream",
     "text": [
      "[8, 10, 12, 14, 16, 18]\n"
     ]
    }
   ],
   "source": [
    "# CREATE A LIST of elements to be multiplied by 2 FOR GIVEN LSIT\n",
    "my_list=[4,5,6,7,8,9]\n",
    "empty_list=[]\n",
    "for item in my_list:\n",
    "    r=item*2\n",
    "    empty_list.append(r)  # .append\n",
    "print(empty_list)"
   ]
  },
  {
   "cell_type": "code",
   "execution_count": null,
   "metadata": {},
   "outputs": [],
   "source": []
  },
  {
   "cell_type": "markdown",
   "metadata": {},
   "source": [
    "# While loop"
   ]
  },
  {
   "cell_type": "code",
   "execution_count": 81,
   "metadata": {},
   "outputs": [
    {
     "name": "stdout",
     "output_type": "stream",
     "text": [
      "b is shit\n",
      "b is shit\n",
      "b is shit\n",
      "b is shit\n",
      "b is shit\n"
     ]
    }
   ],
   "source": [
    "x=0\n",
    "while x<5:     #while someting is true keep doin task\n",
    "    print(\"b is shit\")\n",
    "    x=x+1"
   ]
  },
  {
   "cell_type": "code",
   "execution_count": null,
   "metadata": {},
   "outputs": [],
   "source": [
    "\n"
   ]
  },
  {
   "cell_type": "code",
   "execution_count": null,
   "metadata": {},
   "outputs": [],
   "source": []
  },
  {
   "cell_type": "code",
   "execution_count": null,
   "metadata": {},
   "outputs": [],
   "source": []
  },
  {
   "cell_type": "code",
   "execution_count": null,
   "metadata": {},
   "outputs": [],
   "source": [
    "# BREAKE CONTINUE PASS can be used in anywhere"
   ]
  },
  {
   "cell_type": "code",
   "execution_count": 86,
   "metadata": {},
   "outputs": [
    {
     "name": "stdout",
     "output_type": "stream",
     "text": [
      "p\n",
      "r\n",
      "i\n"
     ]
    }
   ],
   "source": [
    "my_name=\"priyanka\"\n",
    "for item in my_name :\n",
    "    if item==\"y\":\n",
    "        break         # it will come out of loop for \"break\"\n",
    "    print(item )\n",
    "    "
   ]
  },
  {
   "cell_type": "code",
   "execution_count": 85,
   "metadata": {},
   "outputs": [
    {
     "name": "stdout",
     "output_type": "stream",
     "text": [
      "p\n",
      "r\n",
      "i\n",
      "a\n",
      "n\n",
      "k\n",
      "a\n"
     ]
    }
   ],
   "source": [
    "my_name=\"priyanka\"\n",
    "for item in my_name :\n",
    "    if item==\"y\":\n",
    "        continue     # it will skip tht y and continue loop for \"continue\"\n",
    "    print(item)"
   ]
  },
  {
   "cell_type": "code",
   "execution_count": 89,
   "metadata": {},
   "outputs": [],
   "source": [
    "my_name=\"priyanka\"\n",
    "for item in my_name :\n",
    "    pass"
   ]
  },
  {
   "cell_type": "code",
   "execution_count": null,
   "metadata": {},
   "outputs": [],
   "source": []
  }
 ],
 "metadata": {
  "kernelspec": {
   "display_name": "Python 3",
   "language": "python",
   "name": "python3"
  },
  "language_info": {
   "codemirror_mode": {
    "name": "ipython",
    "version": 3
   },
   "file_extension": ".py",
   "mimetype": "text/x-python",
   "name": "python",
   "nbconvert_exporter": "python",
   "pygments_lexer": "ipython3",
   "version": "3.7.4"
  }
 },
 "nbformat": 4,
 "nbformat_minor": 2
}
