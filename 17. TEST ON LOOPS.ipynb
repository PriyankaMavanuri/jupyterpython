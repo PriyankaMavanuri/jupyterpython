{
 "cells": [
  {
   "cell_type": "code",
   "execution_count": 17,
   "metadata": {},
   "outputs": [
    {
     "data": {
      "text/plain": [
       "['print',\n",
       " 'only',\n",
       " 'the',\n",
       " 'words',\n",
       " 'that',\n",
       " 'start',\n",
       " 'with',\n",
       " 's',\n",
       " 'in',\n",
       " 'thhis',\n",
       " 'sentence']"
      ]
     },
     "execution_count": 17,
     "metadata": {},
     "output_type": "execute_result"
    }
   ],
   "source": [
    "st=\"print only the words that start with s in thhis sentence\"\n",
    "st.split()"
   ]
  },
  {
   "cell_type": "code",
   "execution_count": 14,
   "metadata": {},
   "outputs": [
    {
     "name": "stdout",
     "output_type": "stream",
     "text": [
      "start\n",
      "s\n",
      "sentence\n"
     ]
    }
   ],
   "source": [
    "st=\"print only the words that start with s in thhis sentence\"\n",
    "for item in st.split():\n",
    "    if item[0]==\"s\":\n",
    "        print(item)"
   ]
  },
  {
   "cell_type": "code",
   "execution_count": null,
   "metadata": {},
   "outputs": [],
   "source": []
  },
  {
   "cell_type": "code",
   "execution_count": 19,
   "metadata": {},
   "outputs": [
    {
     "name": "stdout",
     "output_type": "stream",
     "text": [
      "[3, 6, 9, 12, 15, 18, 21, 24, 27, 30, 33, 36, 39, 42, 45, 48]\n"
     ]
    }
   ],
   "source": [
    "# use list comprhen to create list of all num between 1 and 50 that are divisible by 3 \n",
    "r=[item for item in range(1,51) if item%3==0]\n",
    "print(r)"
   ]
  },
  {
   "cell_type": "code",
   "execution_count": null,
   "metadata": {},
   "outputs": [],
   "source": []
  },
  {
   "cell_type": "code",
   "execution_count": 22,
   "metadata": {},
   "outputs": [
    {
     "name": "stdout",
     "output_type": "stream",
     "text": [
      "word has even num of letters\n",
      "in has even num of letters\n",
      "this has even num of letters\n",
      "sentence has even num of letters\n",
      "that has even num of letters\n",
      "an has even num of letters\n",
      "even has even num of letters\n",
      "of has even num of letters\n"
     ]
    }
   ],
   "source": [
    "# print every word in this sentence that has an even num of letters\n",
    "st=\"print every word in this sentence that has an even num of letters\"\n",
    "for item in st.split():\n",
    "    if len(item)%2==0:\n",
    "        print(item + \" has even num of letters\")"
   ]
  },
  {
   "cell_type": "code",
   "execution_count": null,
   "metadata": {},
   "outputs": [],
   "source": []
  },
  {
   "cell_type": "code",
   "execution_count": 26,
   "metadata": {},
   "outputs": [
    {
     "data": {
      "text/plain": [
       "'write a program that prints the integers from 1 to 100. but for multiple of 3 print \"fiz\" instead of numbers and\\nfor the multiples of 5 print \"buz\". for numbers which are multiples of both 3 and  5 print \\'fizbuz'"
      ]
     },
     "execution_count": 26,
     "metadata": {},
     "output_type": "execute_result"
    }
   ],
   "source": [
    "'''write a program that prints the integers from 1 to 100. but for multiple of 3 print \"fiz\" instead of numbers and\n",
    "for the multiples of 5 print \"buz\". for numbers which are multiples of both 3 and  5 print 'fizbuz'''\n",
    "\n"
   ]
  },
  {
   "cell_type": "code",
   "execution_count": 30,
   "metadata": {},
   "outputs": [
    {
     "name": "stdout",
     "output_type": "stream",
     "text": [
      "1\n",
      "2\n",
      "fiz\n",
      "4\n",
      "buz\n",
      "fiz\n",
      "7\n",
      "8\n",
      "fiz\n",
      "buz\n",
      "11\n",
      "fiz\n",
      "13\n",
      "14\n",
      "fizbuz\n",
      "16\n",
      "17\n",
      "fiz\n",
      "19\n",
      "buz\n",
      "fiz\n",
      "22\n",
      "23\n",
      "fiz\n",
      "buz\n",
      "26\n",
      "fiz\n",
      "28\n",
      "29\n",
      "fizbuz\n",
      "31\n",
      "32\n",
      "fiz\n",
      "34\n",
      "buz\n",
      "fiz\n",
      "37\n",
      "38\n",
      "fiz\n",
      "buz\n",
      "41\n",
      "fiz\n",
      "43\n",
      "44\n",
      "fizbuz\n",
      "46\n",
      "47\n",
      "fiz\n",
      "49\n",
      "buz\n",
      "fiz\n",
      "52\n",
      "53\n",
      "fiz\n",
      "buz\n",
      "56\n",
      "fiz\n",
      "58\n",
      "59\n",
      "fizbuz\n",
      "61\n",
      "62\n",
      "fiz\n",
      "64\n",
      "buz\n",
      "fiz\n",
      "67\n",
      "68\n",
      "fiz\n",
      "buz\n",
      "71\n",
      "fiz\n",
      "73\n",
      "74\n",
      "fizbuz\n",
      "76\n",
      "77\n",
      "fiz\n",
      "79\n",
      "buz\n",
      "fiz\n",
      "82\n",
      "83\n",
      "fiz\n",
      "buz\n",
      "86\n",
      "fiz\n",
      "88\n",
      "89\n",
      "fizbuz\n",
      "91\n",
      "92\n",
      "fiz\n",
      "94\n",
      "buz\n",
      "fiz\n",
      "97\n",
      "98\n",
      "fiz\n",
      "buz\n"
     ]
    }
   ],
   "source": [
    "for item in range(1,101):\n",
    "    if item%3==0 and item%5==0:\n",
    "        print(\"fizbuz\")\n",
    "    elif item%5==0:\n",
    "        print(\"buz\")\n",
    "    elif item%3==0:\n",
    "        print(\"fiz\")\n",
    "    else:\n",
    "        print(item)"
   ]
  },
  {
   "cell_type": "code",
   "execution_count": null,
   "metadata": {},
   "outputs": [],
   "source": []
  },
  {
   "cell_type": "code",
   "execution_count": 34,
   "metadata": {},
   "outputs": [
    {
     "name": "stdout",
     "output_type": "stream",
     "text": [
      "['c', 'a', 'l', 'o', 't', 'f', 'l', 'o', 'e', 'w', 'i', 't', 's', 'u', 'l', 'c']\n"
     ]
    }
   ],
   "source": [
    "# \n",
    "st=\"create a list of the first letters of every word in this string using list comprhns\"\n",
    "r=[ item [0]for item in st.split()]\n",
    "print(r)\n"
   ]
  },
  {
   "cell_type": "code",
   "execution_count": null,
   "metadata": {},
   "outputs": [],
   "source": [
    " "
   ]
  }
 ],
 "metadata": {
  "kernelspec": {
   "display_name": "Python 3",
   "language": "python",
   "name": "python3"
  },
  "language_info": {
   "codemirror_mode": {
    "name": "ipython",
    "version": 3
   },
   "file_extension": ".py",
   "mimetype": "text/x-python",
   "name": "python",
   "nbconvert_exporter": "python",
   "pygments_lexer": "ipython3",
   "version": "3.7.4"
  }
 },
 "nbformat": 4,
 "nbformat_minor": 2
}
